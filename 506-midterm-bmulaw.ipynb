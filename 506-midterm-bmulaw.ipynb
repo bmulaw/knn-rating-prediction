{
 "cells": [
  {
   "cell_type": "markdown",
   "metadata": {
    "id": "TBlZNZgMlp--"
   },
   "source": [
    "# Importing Libraries and Exploring Data"
   ]
  },
  {
   "cell_type": "code",
   "execution_count": 1,
   "metadata": {
    "id": "FFYRLRew4Ork"
   },
   "outputs": [],
   "source": [
    "from nltk.corpus import stopwords\n",
    "from nltk.stem.wordnet import WordNetLemmatizer\n",
    "from sklearn.feature_extraction.text import CountVectorizer, TfidfTransformer\n",
    "from sklearn.metrics import accuracy_score, precision_score, recall_score, f1_score\n",
    "from sklearn.metrics import mean_squared_error, confusion_matrix\n",
    "from sklearn.model_selection import train_test_split\n",
    "from sklearn.naive_bayes import MultinomialNB\n",
    "import matplotlib.pyplot as plt\n",
    "import pandas as pd\n",
    "import seaborn as sns"
   ]
  },
  {
   "cell_type": "code",
   "execution_count": 2,
   "metadata": {
    "colab": {
     "base_uri": "https://localhost:8080/",
     "height": 527
    },
    "id": "ayuLGEahmYII",
    "outputId": "9c80d464-702e-4bca-837e-af7ae47fa59b"
   },
   "outputs": [
    {
     "data": {
      "text/html": [
       "<div>\n",
       "<style scoped>\n",
       "    .dataframe tbody tr th:only-of-type {\n",
       "        vertical-align: middle;\n",
       "    }\n",
       "\n",
       "    .dataframe tbody tr th {\n",
       "        vertical-align: top;\n",
       "    }\n",
       "\n",
       "    .dataframe thead th {\n",
       "        text-align: right;\n",
       "    }\n",
       "</style>\n",
       "<table border=\"1\" class=\"dataframe\">\n",
       "  <thead>\n",
       "    <tr style=\"text-align: right;\">\n",
       "      <th></th>\n",
       "      <th>Id</th>\n",
       "      <th>ProductId</th>\n",
       "      <th>UserId</th>\n",
       "      <th>HelpfulnessNumerator</th>\n",
       "      <th>HelpfulnessDenominator</th>\n",
       "      <th>Score</th>\n",
       "      <th>Time</th>\n",
       "      <th>Summary</th>\n",
       "      <th>Text</th>\n",
       "    </tr>\n",
       "  </thead>\n",
       "  <tbody>\n",
       "    <tr>\n",
       "      <th>0</th>\n",
       "      <td>0</td>\n",
       "      <td>0005019281</td>\n",
       "      <td>ADZPIG9QOCDG5</td>\n",
       "      <td>0</td>\n",
       "      <td>0</td>\n",
       "      <td>4.0</td>\n",
       "      <td>1203984000</td>\n",
       "      <td>good version of a classic</td>\n",
       "      <td>This is a charming version of the classic Dick...</td>\n",
       "    </tr>\n",
       "    <tr>\n",
       "      <th>1</th>\n",
       "      <td>1</td>\n",
       "      <td>0005019281</td>\n",
       "      <td>A35947ZP82G7JH</td>\n",
       "      <td>0</td>\n",
       "      <td>0</td>\n",
       "      <td>3.0</td>\n",
       "      <td>1388361600</td>\n",
       "      <td>Good but not as moving</td>\n",
       "      <td>It was good but not as emotionally moving as t...</td>\n",
       "    </tr>\n",
       "    <tr>\n",
       "      <th>2</th>\n",
       "      <td>2</td>\n",
       "      <td>0005019281</td>\n",
       "      <td>A3UORV8A9D5L2E</td>\n",
       "      <td>0</td>\n",
       "      <td>0</td>\n",
       "      <td>3.0</td>\n",
       "      <td>1388361600</td>\n",
       "      <td>Winkler's Performance was ok at best!</td>\n",
       "      <td>Don't get me wrong, Winkler is a wonderful cha...</td>\n",
       "    </tr>\n",
       "    <tr>\n",
       "      <th>3</th>\n",
       "      <td>3</td>\n",
       "      <td>0005019281</td>\n",
       "      <td>A1VKW06X1O2X7V</td>\n",
       "      <td>0</td>\n",
       "      <td>0</td>\n",
       "      <td>5.0</td>\n",
       "      <td>1202860800</td>\n",
       "      <td>It's an enjoyable twist on the classic story</td>\n",
       "      <td>Henry Winkler is very good in this twist on th...</td>\n",
       "    </tr>\n",
       "    <tr>\n",
       "      <th>4</th>\n",
       "      <td>4</td>\n",
       "      <td>0005019281</td>\n",
       "      <td>A3R27T4HADWFFJ</td>\n",
       "      <td>0</td>\n",
       "      <td>0</td>\n",
       "      <td>4.0</td>\n",
       "      <td>1387670400</td>\n",
       "      <td>Best Scrooge yet</td>\n",
       "      <td>This is one of the best Scrooge movies out.  H...</td>\n",
       "    </tr>\n",
       "  </tbody>\n",
       "</table>\n",
       "</div>"
      ],
      "text/plain": [
       "   Id   ProductId          UserId  HelpfulnessNumerator  \\\n",
       "0   0  0005019281   ADZPIG9QOCDG5                     0   \n",
       "1   1  0005019281  A35947ZP82G7JH                     0   \n",
       "2   2  0005019281  A3UORV8A9D5L2E                     0   \n",
       "3   3  0005019281  A1VKW06X1O2X7V                     0   \n",
       "4   4  0005019281  A3R27T4HADWFFJ                     0   \n",
       "\n",
       "   HelpfulnessDenominator  Score        Time  \\\n",
       "0                       0    4.0  1203984000   \n",
       "1                       0    3.0  1388361600   \n",
       "2                       0    3.0  1388361600   \n",
       "3                       0    5.0  1202860800   \n",
       "4                       0    4.0  1387670400   \n",
       "\n",
       "                                        Summary  \\\n",
       "0                     good version of a classic   \n",
       "1                        Good but not as moving   \n",
       "2         Winkler's Performance was ok at best!   \n",
       "3  It's an enjoyable twist on the classic story   \n",
       "4                              Best Scrooge yet   \n",
       "\n",
       "                                                Text  \n",
       "0  This is a charming version of the classic Dick...  \n",
       "1  It was good but not as emotionally moving as t...  \n",
       "2  Don't get me wrong, Winkler is a wonderful cha...  \n",
       "3  Henry Winkler is very good in this twist on th...  \n",
       "4  This is one of the best Scrooge movies out.  H...  "
      ]
     },
     "execution_count": 2,
     "metadata": {},
     "output_type": "execute_result"
    }
   ],
   "source": [
    "df = pd.read_csv('data/train.csv')\n",
    "df.head()"
   ]
  },
  {
   "cell_type": "code",
   "execution_count": 3,
   "metadata": {
    "colab": {
     "base_uri": "https://localhost:8080/"
    },
    "id": "aEklnd9SXZnx",
    "outputId": "b6c8d91c-e7e8-4285-d73f-f4b84124086f"
   },
   "outputs": [
    {
     "name": "stdout",
     "output_type": "stream",
     "text": [
      "<class 'pandas.core.frame.DataFrame'>\n",
      "RangeIndex: 1697533 entries, 0 to 1697532\n",
      "Data columns (total 9 columns):\n",
      " #   Column                  Dtype  \n",
      "---  ------                  -----  \n",
      " 0   Id                      int64  \n",
      " 1   ProductId               object \n",
      " 2   UserId                  object \n",
      " 3   HelpfulnessNumerator    int64  \n",
      " 4   HelpfulnessDenominator  int64  \n",
      " 5   Score                   float64\n",
      " 6   Time                    int64  \n",
      " 7   Summary                 object \n",
      " 8   Text                    object \n",
      "dtypes: float64(1), int64(4), object(4)\n",
      "memory usage: 116.6+ MB\n"
     ]
    }
   ],
   "source": [
    "df.info()"
   ]
  },
  {
   "cell_type": "code",
   "execution_count": 4,
   "metadata": {
    "colab": {
     "base_uri": "https://localhost:8080/",
     "height": 288
    },
    "id": "wPnoR3c-eVTE",
    "outputId": "dd924bdf-a0ce-4033-f3e6-4b9e24d1af6e"
   },
   "outputs": [
    {
     "data": {
      "text/plain": [
       "<AxesSubplot:>"
      ]
     },
     "execution_count": 4,
     "metadata": {},
     "output_type": "execute_result"
    },
    {
     "data": {
      "image/png": "[encoded data removed]",
      "text/plain": [
       "<Figure size 432x288 with 1 Axes>"
      ]
     },
     "metadata": {
      "needs_background": "light"
     },
     "output_type": "display_data"
    }
   ],
   "source": [
    "df['Score'].value_counts().plot(kind='bar', legend=True, alpha=.5)"
   ]
  },
  {
   "cell_type": "code",
   "execution_count": 5,
   "metadata": {
    "id": "stvrgB7rXZlR"
   },
   "outputs": [],
   "source": [
    "df.dropna(inplace=True)"
   ]
  },
  {
   "cell_type": "code",
   "execution_count": 6,
   "metadata": {
    "id": "NaHaeClOnNbh"
   },
   "outputs": [],
   "source": [
    "lenrev = []\n",
    "for x in df['Text']:\n",
    "    lenrev.append(len(x))"
   ]
  },
  {
   "cell_type": "code",
   "execution_count": 7,
   "metadata": {
    "id": "VJdxLipXnHeg"
   },
   "outputs": [],
   "source": [
    "df['lenrev'] = lenrev"
   ]
  },
  {
   "cell_type": "code",
   "execution_count": 8,
   "metadata": {
    "colab": {
     "base_uri": "https://localhost:8080/",
     "height": 296
    },
    "id": "aTCuad3rnnmS",
    "outputId": "5de0280d-9de7-48bf-af6c-9bf08f312889"
   },
   "outputs": [
    {
     "data": {
      "text/plain": [
       "<AxesSubplot:xlabel='Score', ylabel='HelpfulnessNumerator'>"
      ]
     },
     "execution_count": 8,
     "metadata": {},
     "output_type": "execute_result"
    },
    {
     "data": {
      "image/png": "[encoded data removed]",
      "text/plain": [
       "<Figure size 432x288 with 1 Axes>"
      ]
     },
     "metadata": {
      "needs_background": "light"
     },
     "output_type": "display_data"
    }
   ],
   "source": [
    "sns.scatterplot(data=df, x=\"Score\", y=\"HelpfulnessNumerator\")"
   ]
  },
  {
   "cell_type": "code",
   "execution_count": 9,
   "metadata": {},
   "outputs": [
    {
     "data": {
      "text/plain": [
       "<AxesSubplot:xlabel='Score', ylabel='lenrev'>"
      ]
     },
     "execution_count": 9,
     "metadata": {},
     "output_type": "execute_result"
    },
    {
     "data": {
      "image/png": "[encoded data removed]",
      "text/plain": [
       "<Figure size 432x288 with 1 Axes>"
      ]
     },
     "metadata": {
      "needs_background": "light"
     },
     "output_type": "display_data"
    }
   ],
   "source": [
    "sns.scatterplot(data=df, x=\"Score\", y=\"lenrev\")"
   ]
  },
  {
   "cell_type": "code",
   "execution_count": 10,
   "metadata": {
    "id": "FfdlOfEK4TQK"
   },
   "outputs": [],
   "source": [
    "X_train, X_test, y_train, y_test = train_test_split(df['Text'], df['Score'], random_state=0, test_size =1/4.0 )"
   ]
  },
  {
   "cell_type": "code",
   "execution_count": 11,
   "metadata": {
    "id": "PAmsHSup4kxc"
   },
   "outputs": [],
   "source": [
    "count_vector = CountVectorizer()\n",
    "training_data = count_vector.fit_transform(X_train)\n",
    "testing_data = count_vector.transform(X_test)"
   ]
  },
  {
   "cell_type": "code",
   "execution_count": 12,
   "metadata": {
    "colab": {
     "base_uri": "https://localhost:8080/"
    },
    "id": "8Ozdz-Xb4qE9",
    "outputId": "634a6ff0-0033-4362-d505-dd2ca387a09e"
   },
   "outputs": [
    {
     "data": {
      "text/plain": [
       "MultinomialNB(alpha=1)"
      ]
     },
     "execution_count": 12,
     "metadata": {},
     "output_type": "execute_result"
    }
   ],
   "source": [
    "naive_bayes = MultinomialNB(alpha=1)\n",
    "naive_bayes.fit(training_data, y_train)"
   ]
  },
  {
   "cell_type": "code",
   "execution_count": 13,
   "metadata": {
    "id": "grhJQkMA4r0V"
   },
   "outputs": [],
   "source": [
    "predictions = naive_bayes.predict(testing_data)"
   ]
  },
  {
   "cell_type": "code",
   "execution_count": 14,
   "metadata": {
    "colab": {
     "base_uri": "https://localhost:8080/",
     "height": 329
    },
    "id": "EuTjokLx4v1g",
    "outputId": "c733adda-be29-4d3a-c642-1692fea509f3"
   },
   "outputs": [
    {
     "name": "stdout",
     "output_type": "stream",
     "text": [
      "Accuracy score:  0.5997320861217176\n",
      "RMSE on testing set =  1.1623340565481473\n"
     ]
    },
    {
     "data": {
      "image/png": "[encoded data removed]",
      "text/plain": [
       "<Figure size 432x288 with 2 Axes>"
      ]
     },
     "metadata": {
      "needs_background": "light"
     },
     "output_type": "display_data"
    }
   ],
   "source": [
    "print('Accuracy score: ', format(accuracy_score(y_test, predictions)))\n",
    "print(\"RMSE on testing set = \", mean_squared_error(y_test, predictions))\n",
    "# Plot a confusion matrix\n",
    "cm = confusion_matrix(y_test, predictions, normalize='true')\n",
    "sns.heatmap(cm, annot=True)\n",
    "plt.title('Confusion matrix of the classifier')\n",
    "plt.xlabel('Predicted')\n",
    "plt.ylabel('True')\n",
    "plt.show()\n"
   ]
  },
  {
   "cell_type": "code",
   "execution_count": 15,
   "metadata": {
    "colab": {
     "base_uri": "https://localhost:8080/",
     "height": 501
    },
    "id": "k5fsqEaL4yQp",
    "outputId": "d39cc65b-de6b-4d3f-f97e-ce0e3d49a87b"
   },
   "outputs": [
    {
     "data": {
      "image/png": "[encoded data removed]",
      "text/plain": [
       "<Figure size 540x540 with 1 Axes>"
      ]
     },
     "metadata": {
      "needs_background": "light"
     },
     "output_type": "display_data"
    }
   ],
   "source": [
    "conf_matrix = confusion_matrix(y_true=y_test, y_pred=predictions)\n",
    "fig, ax = plt.subplots(figsize=(7.5, 7.5))\n",
    "ax.matshow(conf_matrix, cmap=plt.cm.Blues, alpha=0.3)\n",
    "for i in range(conf_matrix.shape[0]):\n",
    "    for j in range(conf_matrix.shape[1]):\n",
    "        ax.text(x=j, y=i,s=conf_matrix[i, j], va='center', ha='center', size='xx-large')\n",
    "        \n",
    "plt.xlabel('Predictions', fontsize=18)\n",
    "plt.ylabel('Actuals', fontsize=18)\n",
    "plt.title('Confusion Matrix', fontsize=18)\n",
    "plt.show()\n"
   ]
  },
  {
   "cell_type": "markdown",
   "metadata": {
    "id": "wKS0at3Uln-6"
   },
   "source": [
    "# Approach 2 cleaned text\n"
   ]
  },
  {
   "cell_type": "code",
   "execution_count": 16,
   "metadata": {
    "id": "DZMb0Va_87aL"
   },
   "outputs": [],
   "source": [
    "import nltk\n",
    "from nltk.corpus import stopwords\n",
    "#nltk.download('stopwords')\n",
    "stop_words = set(stopwords.words(\"english\"))"
   ]
  },
  {
   "cell_type": "code",
   "execution_count": 17,
   "metadata": {
    "id": "e9_HNtyf71ry"
   },
   "outputs": [],
   "source": [
    "final = []\n",
    "for x in df['Text']:\n",
    "    y = x.split(' ')\n",
    "    for z in y :\n",
    "        if z in stop_words:\n",
    "            y.remove(z)\n",
    "        else: \n",
    "            pass\n",
    "    final.append(' '.join(y)) "
   ]
  },
  {
   "cell_type": "code",
   "execution_count": 18,
   "metadata": {
    "id": "0If27RRn72qQ"
   },
   "outputs": [],
   "source": [
    "df['cleaned'] = final"
   ]
  },
  {
   "cell_type": "code",
   "execution_count": 19,
   "metadata": {
    "id": "dXSTOkzLJFH9"
   },
   "outputs": [],
   "source": [
    "X_train, X_test, y_train, y_test = train_test_split(df['cleaned'], df['Score'], random_state=0, test_size =1/4.0 )"
   ]
  },
  {
   "cell_type": "code",
   "execution_count": 20,
   "metadata": {
    "id": "FkfmlXv2JM89"
   },
   "outputs": [],
   "source": [
    "count_vector = CountVectorizer()\n",
    "training_data = count_vector.fit_transform(X_train)\n",
    "testing_data = count_vector.transform(X_test)"
   ]
  },
  {
   "cell_type": "code",
   "execution_count": 21,
   "metadata": {
    "colab": {
     "base_uri": "https://localhost:8080/"
    },
    "id": "BvccvQfYJSSD",
    "outputId": "f363c8b0-cc1a-4e53-f47b-78738848806d"
   },
   "outputs": [
    {
     "data": {
      "text/plain": [
       "MultinomialNB()"
      ]
     },
     "execution_count": 21,
     "metadata": {},
     "output_type": "execute_result"
    }
   ],
   "source": [
    "naive_bayes = MultinomialNB()\n",
    "naive_bayes.fit(training_data, y_train)"
   ]
  },
  {
   "cell_type": "code",
   "execution_count": 22,
   "metadata": {
    "id": "xR5gjaxeJUnS"
   },
   "outputs": [],
   "source": [
    "predictions = naive_bayes.predict(testing_data)"
   ]
  },
  {
   "cell_type": "code",
   "execution_count": 23,
   "metadata": {
    "colab": {
     "base_uri": "https://localhost:8080/",
     "height": 329
    },
    "id": "9q11in4DJYTA",
    "outputId": "2d757977-a5a9-4da4-f621-a601000cbd5c"
   },
   "outputs": [
    {
     "name": "stdout",
     "output_type": "stream",
     "text": [
      "Accuracy score:  0.6017815127974674\n",
      "RMSE on testing set =  1.1311089230205573\n"
     ]
    },
    {
     "data": {
      "image/png": "[encoded data removed]",
      "text/plain": [
       "<Figure size 432x288 with 2 Axes>"
      ]
     },
     "metadata": {
      "needs_background": "light"
     },
     "output_type": "display_data"
    }
   ],
   "source": [
    "print('Accuracy score: ', format(accuracy_score(y_test, predictions)))\n",
    "print(\"RMSE on testing set = \", mean_squared_error(y_test, predictions))\n",
    "# Plot a confusion matrix\n",
    "cm = confusion_matrix(y_test, predictions, normalize='true')\n",
    "sns.heatmap(cm, annot=True)\n",
    "plt.title('Confusion matrix of the classifier')\n",
    "plt.xlabel('Predicted')\n",
    "plt.ylabel('True')\n",
    "plt.show()\n"
   ]
  },
  {
   "cell_type": "code",
   "execution_count": 24,
   "metadata": {
    "id": "Cxd8Ji1vJYl_"
   },
   "outputs": [],
   "source": [
    "X_submission = pd.read_csv('data/X_test.csv')"
   ]
  },
  {
   "cell_type": "code",
   "execution_count": 25,
   "metadata": {
    "colab": {
     "base_uri": "https://localhost:8080/",
     "height": 598
    },
    "id": "WdzrRZDWh666",
    "outputId": "9fe2d9f0-b632-44f8-81bd-94d492087ea5"
   },
   "outputs": [
    {
     "data": {
      "text/html": [
       "<div>\n",
       "<style scoped>\n",
       "    .dataframe tbody tr th:only-of-type {\n",
       "        vertical-align: middle;\n",
       "    }\n",
       "\n",
       "    .dataframe tbody tr th {\n",
       "        vertical-align: top;\n",
       "    }\n",
       "\n",
       "    .dataframe thead th {\n",
       "        text-align: right;\n",
       "    }\n",
       "</style>\n",
       "<table border=\"1\" class=\"dataframe\">\n",
       "  <thead>\n",
       "    <tr style=\"text-align: right;\">\n",
       "      <th></th>\n",
       "      <th>Id</th>\n",
       "      <th>ProductId</th>\n",
       "      <th>UserId</th>\n",
       "      <th>HelpfulnessNumerator</th>\n",
       "      <th>HelpfulnessDenominator</th>\n",
       "      <th>Time</th>\n",
       "      <th>Summary</th>\n",
       "      <th>Text</th>\n",
       "      <th>Helpfulness</th>\n",
       "      <th>Score</th>\n",
       "    </tr>\n",
       "  </thead>\n",
       "  <tbody>\n",
       "    <tr>\n",
       "      <th>0</th>\n",
       "      <td>5</td>\n",
       "      <td>0005019281</td>\n",
       "      <td>A2L0G56BNOTX6S</td>\n",
       "      <td>0</td>\n",
       "      <td>0</td>\n",
       "      <td>1383696000</td>\n",
       "      <td>Dickens updated.</td>\n",
       "      <td>This has been a favorite movie of mine for a l...</td>\n",
       "      <td>0.000000</td>\n",
       "      <td>NaN</td>\n",
       "    </tr>\n",
       "    <tr>\n",
       "      <th>1</th>\n",
       "      <td>11</td>\n",
       "      <td>0005019281</td>\n",
       "      <td>A33EWPXESP9GQH</td>\n",
       "      <td>0</td>\n",
       "      <td>0</td>\n",
       "      <td>1390780800</td>\n",
       "      <td>Good Version</td>\n",
       "      <td>Even though i don't care for Henry Winklers  a...</td>\n",
       "      <td>0.000000</td>\n",
       "      <td>NaN</td>\n",
       "    </tr>\n",
       "    <tr>\n",
       "      <th>2</th>\n",
       "      <td>17</td>\n",
       "      <td>0005019281</td>\n",
       "      <td>A13KAQO9F5X0FN</td>\n",
       "      <td>0</td>\n",
       "      <td>0</td>\n",
       "      <td>1389657600</td>\n",
       "      <td>the fonz does scrooge</td>\n",
       "      <td>Anorher good movie for holiday watchers..a lit...</td>\n",
       "      <td>0.000000</td>\n",
       "      <td>NaN</td>\n",
       "    </tr>\n",
       "    <tr>\n",
       "      <th>3</th>\n",
       "      <td>46</td>\n",
       "      <td>0005019281</td>\n",
       "      <td>A306NASGVUDFKF</td>\n",
       "      <td>10</td>\n",
       "      <td>14</td>\n",
       "      <td>1132963200</td>\n",
       "      <td>A refreshing twist on a Holiday classic</td>\n",
       "      <td>My wife and I grew up in New Hampshire where t...</td>\n",
       "      <td>0.714286</td>\n",
       "      <td>NaN</td>\n",
       "    </tr>\n",
       "    <tr>\n",
       "      <th>4</th>\n",
       "      <td>47</td>\n",
       "      <td>0005019281</td>\n",
       "      <td>A38G1NN5SD81GD</td>\n",
       "      <td>0</td>\n",
       "      <td>1</td>\n",
       "      <td>1384905600</td>\n",
       "      <td>Not my favorite</td>\n",
       "      <td>This is a first for me, I didn't like this mov...</td>\n",
       "      <td>0.000000</td>\n",
       "      <td>NaN</td>\n",
       "    </tr>\n",
       "  </tbody>\n",
       "</table>\n",
       "</div>"
      ],
      "text/plain": [
       "   Id   ProductId          UserId  HelpfulnessNumerator  \\\n",
       "0   5  0005019281  A2L0G56BNOTX6S                     0   \n",
       "1  11  0005019281  A33EWPXESP9GQH                     0   \n",
       "2  17  0005019281  A13KAQO9F5X0FN                     0   \n",
       "3  46  0005019281  A306NASGVUDFKF                    10   \n",
       "4  47  0005019281  A38G1NN5SD81GD                     0   \n",
       "\n",
       "   HelpfulnessDenominator        Time  \\\n",
       "0                       0  1383696000   \n",
       "1                       0  1390780800   \n",
       "2                       0  1389657600   \n",
       "3                      14  1132963200   \n",
       "4                       1  1384905600   \n",
       "\n",
       "                                   Summary  \\\n",
       "0                         Dickens updated.   \n",
       "1                             Good Version   \n",
       "2                    the fonz does scrooge   \n",
       "3  A refreshing twist on a Holiday classic   \n",
       "4                          Not my favorite   \n",
       "\n",
       "                                                Text  Helpfulness  Score  \n",
       "0  This has been a favorite movie of mine for a l...     0.000000    NaN  \n",
       "1  Even though i don't care for Henry Winklers  a...     0.000000    NaN  \n",
       "2  Anorher good movie for holiday watchers..a lit...     0.000000    NaN  \n",
       "3  My wife and I grew up in New Hampshire where t...     0.714286    NaN  \n",
       "4  This is a first for me, I didn't like this mov...     0.000000    NaN  "
      ]
     },
     "execution_count": 25,
     "metadata": {},
     "output_type": "execute_result"
    }
   ],
   "source": [
    "X_submission.head()"
   ]
  },
  {
   "cell_type": "code",
   "execution_count": 26,
   "metadata": {
    "id": "oWggl9KdL6zG"
   },
   "outputs": [],
   "source": [
    "\n",
    "finalop = []\n",
    "for x in X_submission['Text']:\n",
    "    y = str(x).split(' ')\n",
    "    for z in y :\n",
    "        if z in stop_words:\n",
    "            y.remove(z)\n",
    "        else: \n",
    "            pass\n",
    "    finalop.append(' '.join(y))\n",
    "\n",
    "X_submission['cleaned'] = finalop\n"
   ]
  },
  {
   "cell_type": "code",
   "execution_count": 27,
   "metadata": {
    "id": "BVUXib9_ZJY6"
   },
   "outputs": [],
   "source": [
    "X_testing_data = count_vector.transform(X_submission['cleaned'])"
   ]
  },
  {
   "cell_type": "code",
   "execution_count": 28,
   "metadata": {
    "id": "zoAI9FtiZ3GL"
   },
   "outputs": [],
   "source": [
    "X_submission['Score'] = naive_bayes.predict(X_testing_data)"
   ]
  },
  {
   "cell_type": "code",
   "execution_count": 29,
   "metadata": {
    "id": "GxfczkWmZ3C9"
   },
   "outputs": [],
   "source": [
    "# Create the submission file\n",
    "submission = X_submission[['Id', 'Score']]\n",
    "submission.to_csv(\"data/submission.csv\", index=False)\n"
   ]
  }
 ],
 "metadata": {
  "accelerator": "GPU",
  "colab": {
   "collapsed_sections": [],
   "machine_shape": "hm",
   "name": "FinalPredictimagination.ipynb",
   "provenance": []
  },
  "interpreter": {
   "hash": "aee8b7b246df8f9039afb4144a1f6fd8d2ca17a180786b69acc140d282b71a49"
  },
  "kernelspec": {
   "display_name": "Python 3",
   "language": "python",
   "name": "python3"
  },
  "language_info": {
   "codemirror_mode": {
    "name": "ipython",
    "version": 3
   },
   "file_extension": ".py",
   "mimetype": "text/x-python",
   "name": "python",
   "nbconvert_exporter": "python",
   "pygments_lexer": "ipython3",
   "version": "3.8.8"
  }
 },
 "nbformat": 4,
 "nbformat_minor": 1
}
